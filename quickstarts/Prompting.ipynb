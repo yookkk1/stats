{
  "cells": [
    {
      "cell_type": "markdown",
      "metadata": {
        "id": "view-in-github",
        "colab_type": "text"
      },
      "source": [
        "<a href=\"https://colab.research.google.com/github/yookkk1/stats/blob/master/quickstarts/Prompting.ipynb\" target=\"_parent\"><img src=\"https://colab.research.google.com/assets/colab-badge.svg\" alt=\"Open In Colab\"/></a>"
      ]
    },
    {
      "cell_type": "code",
      "source": [
        "!pip install -U scikeras tensorflow scikit-learn==1.5.2\n"
      ],
      "metadata": {
        "id": "384511gXqS-j"
      },
      "execution_count": null,
      "outputs": []
    },
    {
      "cell_type": "code",
      "source": [
        "# ============================================\n",
        "# 0. Install Library (jalankan sekali di Colab)\n",
        "# ============================================\n",
        "!pip install scikeras tensorflow\n",
        "\n",
        "# ============================================\n",
        "# 1. Import Library\n",
        "# ============================================\n",
        "import pandas as pd\n",
        "import numpy as np\n",
        "from sklearn.model_selection import train_test_split, GridSearchCV\n",
        "from sklearn.preprocessing import StandardScaler\n",
        "from sklearn.metrics import accuracy_score, classification_report, f1_score, ConfusionMatrixDisplay\n",
        "from scikeras.wrappers import KerasClassifier\n",
        "from tensorflow.keras.models import Sequential\n",
        "from tensorflow.keras.layers import Dense, Dropout\n",
        "from tensorflow.keras.callbacks import EarlyStopping\n",
        "import matplotlib.pyplot as plt\n",
        "from google.colab import files\n",
        "\n",
        "# ============================================\n",
        "# 2. Upload File CSV\n",
        "# ============================================\n",
        "print(\"Silakan upload file CSV Anda (contoh: Prakiraan_Cuaca.csv):\")\n",
        "uploaded = files.upload()\n",
        "data = pd.read_csv(list(uploaded.keys())[0])\n",
        "\n",
        "# ============================================\n",
        "# 3. Persiapan Data\n",
        "# ============================================\n",
        "label_map = {\"Hujan\": 0, \"Cerah\": 1, \"Berawan\": 2}\n",
        "data[\"cuaca\"] = data[\"cuaca\"].map(label_map)\n",
        "\n",
        "X = data[[\"suhu\", \"kelembaban\", \"angin\"]].dropna()\n",
        "y = data.loc[X.index, \"cuaca\"]\n",
        "\n",
        "X_train, X_test, y_train, y_test = train_test_split(\n",
        "    X, y, test_size=0.4, random_state=42, stratify=y\n",
        ")\n",
        "\n",
        "# ============================================\n",
        "# 4. Normalisasi\n",
        "# ============================================\n",
        "scaler = StandardScaler()\n",
        "X_train = scaler.fit_transform(X_train)\n",
        "X_test = scaler.transform(X_test)\n",
        "\n",
        "# ============================================\n",
        "# 5. Definisi Model\n",
        "# ============================================\n",
        "def create_model(neurons=32, dropout_rate=0.2):\n",
        "    model = Sequential([\n",
        "        Dense(neurons, activation='relu', input_shape=(X_train.shape[1],)),\n",
        "        Dropout(dropout_rate),\n",
        "        Dense(neurons // 2, activation='relu'),\n",
        "        Dense(3, activation='softmax')\n",
        "    ])\n",
        "    model.compile(optimizer='adam', loss='sparse_categorical_crossentropy', metrics=['accuracy'])\n",
        "    return model\n",
        "\n",
        "# ============================================\n",
        "# 6. Training dengan GridSearch\n",
        "# ============================================\n",
        "model = KerasClassifier(\n",
        "    model=create_model,\n",
        "    verbose=0,\n",
        "    callbacks=[EarlyStopping(monitor='loss', patience=3, restore_best_weights=True)]\n",
        ")\n",
        "\n",
        "param_grid = {\n",
        "    'model__neurons': [16, 32],\n",
        "    'model__dropout_rate': [0.0, 0.2],\n",
        "    'batch_size': [16],\n",
        "    'epochs': [20]\n",
        "}\n",
        "\n",
        "grid = GridSearchCV(model, param_grid, scoring='f1_macro', cv=2, verbose=1)\n",
        "grid.fit(X_train, y_train)\n",
        "\n",
        "print(\"\\nBest Score:\", grid.best_score_)\n",
        "print(\"Best Params:\", grid.best_params_)\n",
        "\n",
        "# ============================================\n",
        "# 7. Evaluasi Model\n",
        "# ============================================\n",
        "y_pred = grid.best_estimator_.predict(X_test)\n",
        "if y_pred.ndim > 1:\n",
        "    y_pred = np.argmax(y_pred, axis=1)\n",
        "\n",
        "print(\"\\nAkurasi:\", f\"{accuracy_score(y_test, y_pred):.4f}\")\n",
        "print(\"F1 Macro:\", f\"{f1_score(y_test, y_pred, average='macro'):.4f}\")\n",
        "print(\"\\nLaporan Klasifikasi:\")\n",
        "print(classification_report(y_test, y_pred, target_names=list(label_map.keys())))\n",
        "\n",
        "ConfusionMatrixDisplay.from_predictions(y_test, y_pred, display_labels=list(label_map.keys()))\n",
        "plt.title(\"Confusion Matrix - Neural Network\")\n",
        "plt.show()\n"
      ],
      "metadata": {
        "id": "CbuAVTyPqP_m"
      },
      "execution_count": null,
      "outputs": []
    }
  ],
  "metadata": {
    "colab": {
      "name": "Prompting.ipynb",
      "toc_visible": true,
      "provenance": [],
      "include_colab_link": true
    },
    "google": {
      "image_path": "/static/site-assets/images/docs/logo-python.svg",
      "keywords": [
        "examples",
        "gemini",
        "beginner",
        "googleai",
        "quickstart",
        "python",
        "text",
        "chat",
        "vision",
        "embed"
      ]
    },
    "kernelspec": {
      "display_name": "Python 3",
      "name": "python3"
    }
  },
  "nbformat": 4,
  "nbformat_minor": 0
}